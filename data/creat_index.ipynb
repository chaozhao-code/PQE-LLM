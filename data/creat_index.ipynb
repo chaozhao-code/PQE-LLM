{
 "cells": [
  {
   "cell_type": "code",
   "id": "initial_id",
   "metadata": {
    "collapsed": true,
    "ExecuteTime": {
     "end_time": "2025-02-15T20:12:45.364661Z",
     "start_time": "2025-02-15T20:12:44.611603Z"
    }
   },
   "source": [
    "import hnswlib\n",
    "import numpy as np\n",
    "import json\n",
    "\n",
    "\n",
    "num_elements = 10000  \n",
    "dim = 384  \n",
    "EID2EMBEDDING = json.load(open(\"../data/EID2EMBEDDING.json\"))\n",
    "\n",
    "\n",
    "index = hnswlib.Index(space='cosine', dim=dim)  \n",
    "\n",
    "\n",
    "index.init_index(max_elements=num_elements, ef_construction=200, M=16)\n",
    "\n",
    "\n",
    "\n"
   ],
   "outputs": [],
   "execution_count": 1
  },
  {
   "metadata": {
    "ExecuteTime": {
     "end_time": "2025-02-15T20:13:26.213080Z",
     "start_time": "2025-02-15T20:13:21.627165Z"
    }
   },
   "cell_type": "code",
   "source": [
    "for key, value in EID2EMBEDDING.items():\n",
    "    index.add_items(np.array(value['embedding']), key)"
   ],
   "id": "25bd94aa88f5dc6d",
   "outputs": [],
   "execution_count": 3
  },
  {
   "metadata": {
    "ExecuteTime": {
     "end_time": "2025-02-15T20:13:35.929291Z",
     "start_time": "2025-02-15T20:13:35.901997Z"
    }
   },
   "cell_type": "code",
   "source": [
    "\n",
    "index.set_ef(1500) \n",
    "index.save_index(\"hnsw_index.idx\")"
   ],
   "id": "59e4fab445715d3f",
   "outputs": [],
   "execution_count": 4
  },
  {
   "metadata": {},
   "cell_type": "code",
   "outputs": [],
   "execution_count": null,
   "source": "",
   "id": "7d1577a155b22899"
  }
 ],
 "metadata": {
  "kernelspec": {
   "display_name": "Python 3",
   "language": "python",
   "name": "python3"
  },
  "language_info": {
   "codemirror_mode": {
    "name": "ipython",
    "version": 2
   },
   "file_extension": ".py",
   "mimetype": "text/x-python",
   "name": "python",
   "nbconvert_exporter": "python",
   "pygments_lexer": "ipython2",
   "version": "2.7.6"
  }
 },
 "nbformat": 4,
 "nbformat_minor": 5
}
