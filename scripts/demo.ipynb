{
 "cells": [
  {
   "cell_type": "code",
   "metadata": {
    "application/vnd.databricks.v1+cell": {
     "cellMetadata": {
      "byteLimit": 2048000,
      "rowLimit": 10000
     },
     "inputWidgets": {},
     "nuid": "80196b84-c5e0-48b2-9613-3768133bd9f3",
     "showTitle": false,
     "tableResultSettingsMap": {},
     "title": ""
    },
    "jupyter": {
     "outputs_hidden": true
    },
    "ExecuteTime": {
     "end_time": "2025-02-15T20:14:59.823565Z",
     "start_time": "2025-02-15T20:14:59.047713Z"
    }
   },
   "source": [
    "import json\n",
    "%run \"utils.ipynb\""
   ],
   "outputs": [],
   "execution_count": 16
  },
  {
   "cell_type": "code",
   "metadata": {
    "application/vnd.databricks.v1+cell": {
     "cellMetadata": {
      "byteLimit": 2048000,
      "rowLimit": 10000
     },
     "inputWidgets": {},
     "nuid": "8afe8fe2-74ae-4268-aa23-65da67a421d6",
     "showTitle": false,
     "tableResultSettingsMap": {},
     "title": ""
    },
    "ExecuteTime": {
     "end_time": "2025-02-15T20:13:57.862114Z",
     "start_time": "2025-02-15T20:13:57.859164Z"
    }
   },
   "source": "dataset = json.load(open('../data/query2doc.json'))",
   "outputs": [],
   "execution_count": 14
  },
  {
   "cell_type": "code",
   "metadata": {
    "application/vnd.databricks.v1+cell": {
     "cellMetadata": {
      "byteLimit": 2048000,
      "rowLimit": 10000
     },
     "inputWidgets": {},
     "nuid": "8b12a130-a6cf-4832-9e67-1a3a9fd83843",
     "showTitle": false,
     "tableResultSettingsMap": {},
     "title": ""
    },
    "ExecuteTime": {
     "end_time": "2025-02-15T20:19:43.849737Z",
     "start_time": "2025-02-15T20:19:43.847308Z"
    }
   },
   "source": [
    "demo_experiment = QueryExpansion(query2doc=dataset, folderName='test', maxTokens=800, maxAbsLens=8000, maxWorker=1, ifRankAbs=True)\n",
    "demo_experiment.run()\n",
    "demo_experiment.overall_result.display()"
   ],
   "outputs": [],
   "execution_count": 22
  },
  {
   "metadata": {},
   "cell_type": "code",
   "outputs": [],
   "execution_count": null,
   "source": ""
  }
 ],
 "metadata": {
  "application/vnd.databricks.v1+notebook": {
   "computePreferences": null,
   "dashboards": [],
   "environmentMetadata": null,
   "language": "python",
   "notebookMetadata": {
    "pythonIndentUnit": 4
   },
   "notebookName": "Thesis Experiment",
   "widgets": {}
  },
  "language_info": {
   "name": "python"
  },
  "kernelspec": {
   "name": "python3",
   "language": "python",
   "display_name": "Python 3 (ipykernel)"
  }
 },
 "nbformat": 4,
 "nbformat_minor": 0
}
